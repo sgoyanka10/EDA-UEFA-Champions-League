{
 "cells": [
  {
   "cell_type": "markdown",
   "metadata": {},
   "source": [
    "**Importing Packages**"
   ]
  },
  {
   "cell_type": "code",
   "execution_count": 1,
   "metadata": {},
   "outputs": [
    {
     "data": {
      "text/html": [
       "        <script type=\"text/javascript\">\n",
       "        window.PlotlyConfig = {MathJaxConfig: 'local'};\n",
       "        if (window.MathJax) {MathJax.Hub.Config({SVG: {font: \"STIX-Web\"}});}\n",
       "        if (typeof require !== 'undefined') {\n",
       "        require.undef(\"plotly\");\n",
       "        requirejs.config({\n",
       "            paths: {\n",
       "                'plotly': ['https://cdn.plot.ly/plotly-latest.min']\n",
       "            }\n",
       "        });\n",
       "        require(['plotly'], function(Plotly) {\n",
       "            window._Plotly = Plotly;\n",
       "        });\n",
       "        }\n",
       "        </script>\n",
       "        "
      ]
     },
     "metadata": {},
     "output_type": "display_data"
    }
   ],
   "source": [
    "%matplotlib inline\n",
    "import numpy as np\n",
    "import pandas as pd\n",
    "import requests \n",
    "from bs4 import BeautifulSoup\n",
    "import re\n",
    "import seaborn as sns\n",
    "import matplotlib.pyplot as plt\n",
    "import matplotlib.image as mimg\n",
    "from geopy.geocoders import Nominatim\n",
    "import ipywidgets as widgets\n",
    "from ipywidgets import interact, interact_manual\n",
    "import cufflinks as cf\n",
    "import plotly.graph_objs as go\n",
    "from plotly import tools\n",
    "from plotly.offline import iplot\n",
    "import plotly.express as px\n",
    "\n",
    "cf.go_offline()\n",
    "cf.set_config_file(offline=False, world_readable=True)\n",
    "#color = sns.color_palette()"
   ]
  },
  {
   "cell_type": "markdown",
   "metadata": {},
   "source": [
    "**Defining the UEFA Champions League season info**"
   ]
  },
  {
   "cell_type": "code",
   "execution_count": 2,
   "metadata": {},
   "outputs": [],
   "source": [
    "#url of last five seasons to retrieve data from\n",
    "url = ['https://en.wikipedia.org/wiki/2018%E2%80%9319_UEFA_Champions_League', 'https://en.wikipedia.org/wiki/2017%E2%80%9318_UEFA_Champions_League','https://en.wikipedia.org/wiki/2016%E2%80%9317_UEFA_Champions_League', 'https://en.wikipedia.org/wiki/2015%E2%80%9316_UEFA_Champions_League', 'https://en.wikipedia.org/wiki/2014%E2%80%9315_UEFA_Champions_League']\n",
    "#start and end index of group stage tables in the above urls\n",
    "group_table_index = [{'23' : '31'}, {'15' : '23'}, {'15' : '23'}, {'15' : '23'}, {'14' : '22'}]\n",
    "season = ['2018-19', '2017-18', '2016-17', '2015-16', '2014-15']"
   ]
  },
  {
   "cell_type": "code",
   "execution_count": 3,
   "metadata": {},
   "outputs": [],
   "source": [
    "#tables = pd.read_html(url[4])\n",
    "#tables[21]"
   ]
  },
  {
   "cell_type": "markdown",
   "metadata": {},
   "source": [
    "**Defining pre-processing and cleaning functions**"
   ]
  },
  {
   "cell_type": "code",
   "execution_count": 4,
   "metadata": {},
   "outputs": [],
   "source": [
    "teams_league_dict = {'1899 Hoffenheim': 'German Bundesliga', 'AEK Athens': 'Super League Greece', 'APOEL': 'Cyprus First Division',\n",
    "              'Ajax': 'Dutch Eredivisie', 'Anderlecht': 'Belgian First Division A', 'Arsenal': 'English Premier League',\n",
    "              'Astana': 'Kazakhstan Premier League', 'Athletic Bilbao': 'Spanish La Liga', 'Atlético Madrid': 'Spanish La Liga',\n",
    "              'BATE Borisov': 'Belarusian Premier League', 'Barcelona': 'Spanish La Liga', 'Basel': 'Swiss Super League',\n",
    "              'Bayer Leverkusen': 'German Bundesliga', 'Bayern Munich': 'German Bundesliga', 'Benfica': 'Portuguese Primeira Liga',\n",
    "              'Beşiktaş': 'Turkish Süper Lig', 'Borussia Dortmund': 'German Bundesliga', 'Borussia Mönchengladbach': 'German Bundesliga',\n",
    "              'CSKA Moscow': 'Russian Premier League', 'Celtic': 'Scottish Premiership', 'Chelsea': 'English Premier League',\n",
    "              'Club Brugge': 'Belgian First Division A', 'Copenhagen': 'Danish Superliga',\n",
    "              'Dinamo Zagreb': 'Croatian First Football League', 'Dynamo Kyiv': 'Ukrainian Premier League',\n",
    "              'Feyenoord': 'Dutch Eredivisie', 'Galatasaray': 'Turkish Süper Lig', 'Gent': 'Belgian First Division A',\n",
    "              'Inter Milan': 'Italian Serie A', 'Juventus': 'Italian Serie A', 'Lyon': 'France Ligue 1',\n",
    "              'Maccabi Tel Aviv': 'Israeli Premier League', 'Malmö': 'Swedish Allsvenskan',\n",
    "              'Malmö FF': 'Swedish Allsvenskan', 'Manchester City': 'English Premier League', 'Manchester United': 'English Premier League',\n",
    "              'Maribor': 'Slovenian PrvaLiga', 'Monaco': 'France Ligue 1',\n",
    "              'Napoli': 'Italian Serie A', 'Olympiacos': 'Super League Greece', 'PSV Eindhoven': 'Dutch Eredivisie',\n",
    "              'Paris Saint-Germain': 'France Ligue 1', 'Porto': 'Portuguese Primeira Liga',\n",
    "              'Qarabağ': 'Azerbaijan Premier League', 'RB Leipzig': 'German Bundesliga', 'Real Madrid': 'Spanish La Liga',\n",
    "              'Red Star Belgrade': 'Serbian SuperLiga', 'Roma': 'Italian Serie A', 'Rostov': 'Russian Premier League',\n",
    "              'Schalke 04': 'German Bundesliga', 'Shakhtar Donetsk': 'Ukrainian Premier League',\n",
    "              'Spartak Moscow': 'Russian Premier League', 'Sporting CP': 'Portuguese Primeira Liga',\n",
    "              'Sevilla': 'Spanish La Liga','Tottenham Hotspur': 'English Premier League', 'Valencia': 'Spanish La Liga',\n",
    "              'Viktoria Plzeň': 'Czech First League', 'Wolfsburg': 'German Bundesliga', 'Young Boys': 'Swiss Super League',\n",
    "              'Zenit Saint Petersburg': 'Russian Premier League', 'Legia Warsaw': 'Polish Ekstraklasa', 'Leicester City': 'English Premier League',\n",
    "              'Liverpool': 'English Premier League', 'Lokomotiv Moscow': 'Russian Premier League',\n",
    "              'Ludogorets Razgrad': 'Bulgarian First League',}\n",
    "\n",
    "def intinstr(s):\n",
    "    return re.findall(r'\\d+', str(s))[0]\n",
    "\n",
    "def group_home_goals_f(s):\n",
    "    s = str(s).split('–')\n",
    "    if(len(s)==2):\n",
    "        return int(s[0])\n",
    "    else:\n",
    "        return 0\n",
    "    \n",
    "def group_home_goals_a(s):\n",
    "    s = str(s).split('–')\n",
    "    if(len(s)==2):\n",
    "        return int(s[1])\n",
    "    else:\n",
    "        return 0     \n",
    "    \n",
    "def group_away_goals_f(df):\n",
    "    gagf = []\n",
    "    for i,r in df.iterrows():\n",
    "        final_val = []\n",
    "        x = r['Team']\n",
    "        val = df[x].tolist()\n",
    "        for a in val:\n",
    "            a = str(a).split('–')\n",
    "            if(len(a)==2):\n",
    "                final_val.append(int(a[1]))\n",
    "            else:\n",
    "                final_val.append(0)\n",
    "        gagf.append(sum(final_val))\n",
    "    return gagf\n",
    "\n",
    "def group_away_goals_a(df):\n",
    "    gaga = []\n",
    "    for i,r in df.iterrows():\n",
    "        final_val = []\n",
    "        x = r['Team']\n",
    "        val = df[x].tolist()\n",
    "        for a in val:\n",
    "            a = str(a).split('–')\n",
    "            if(len(a)==2):\n",
    "                final_val.append(int(a[0]))\n",
    "            else:\n",
    "                final_val.append(0)\n",
    "        gaga.append(sum(final_val))\n",
    "    return gaga\n",
    "\n",
    "def qualified_round_16(s):\n",
    "    if(int(s)==1 or int(s)==2):\n",
    "        return 1\n",
    "    else:\n",
    "        return 0\n",
    "    \n",
    "def location(s):\n",
    "    # Create geo_locator object instance\n",
    "    geo_locator = Nominatim()\n",
    "    loc = ''\n",
    "    if(str(s) == 'Juventus'):\n",
    "        s = 'Turin, Italy'\n",
    "    elif(str(s) == 'Real Madrid'):\n",
    "        s = 'Madrid, Spain'\n",
    "    elif(str(s) == 'Manchester United'):\n",
    "        s = 'Old Trafford, England'\n",
    "    elif(str(s) == 'Benfica'):\n",
    "        s = 'Lisbon, Portugal'\n",
    "    elif(str(s) == 'Sporting CP'):\n",
    "        s = 'Lisbon, Portugal'\n",
    "    elif(str(s) == 'Celtic'):\n",
    "        s = 'Glasgow, United Kingdom'\n",
    "    elif(str(s) == 'Inter Milan'):\n",
    "        s = 'Milan, Italy'\n",
    "    elif(str(s) == 'Ajax'):\n",
    "        s = 'Amsterdam, Netherlands'\n",
    "    elif(str(s) == 'Young Boys'):\n",
    "        s = 'Bern, Switzerland'\n",
    "    elif(str(s) == 'Olympiacos'):\n",
    "        s = 'Pireas, Greece'\n",
    "    elif(str(s) == 'Red Star Belgrade'):\n",
    "        s = 'Belgrade, Serbia'\n",
    "    elif(str(s) == 'Viktoria Plzeň'):\n",
    "        s = 'Pilsen, Czechia'\n",
    "    elif(str(s) == '1899 Hoffenheim'):\n",
    "        s = 'Hoffenheim, Sinsheim, Germany'\n",
    "    try:\n",
    "        loc = geo_locator.geocode(str(s))\n",
    "    except:\n",
    "        pass\n",
    "    if(loc):\n",
    "        return loc.latitude, loc.longitude\n",
    "    else:\n",
    "        return None, None  "
   ]
  },
  {
   "cell_type": "markdown",
   "metadata": {},
   "source": [
    "**Preparing Data for group stage**"
   ]
  },
  {
   "cell_type": "code",
   "execution_count": 5,
   "metadata": {},
   "outputs": [
    {
     "name": "stderr",
     "output_type": "stream",
     "text": [
      "/anaconda3/lib/python3.6/site-packages/ipykernel_launcher.py:82: DeprecationWarning:\n",
      "\n",
      "Using Nominatim with the default \"geopy/1.22.0\" `user_agent` is strongly discouraged, as it violates Nominatim's ToS https://operations.osmfoundation.org/policies/nominatim/ and may possibly cause 403 and 429 HTTP errors. Please specify a custom `user_agent` with `Nominatim(user_agent=\"my-application\")` or by overriding the default `user_agent`: `geopy.geocoders.options.default_user_agent = \"my-application\"`. In geopy 2.0 this will become an exception.\n",
      "\n"
     ]
    }
   ],
   "source": [
    "concat_group_tables = []\n",
    "teams = []\n",
    "\n",
    "for i, u in enumerate(url):       #iterating through all urls\n",
    "\n",
    "    tables = pd.read_html(url[i]) #reading all tables from url\n",
    "    group_tables = []\n",
    "\n",
    "    start = int(list(group_table_index[i].keys())[0]) #retrieving start index of group stage tables \n",
    "    end = int(list(group_table_index[i].values())[0]) #retrieving end index of group stage tables\n",
    "    year = season[i]                                  #retrieving season \n",
    "\n",
    "    for df in tables[start:end]:\n",
    "\n",
    "        new_header = df.iloc[0] #grab the first row for the header\n",
    "        df = df[1:] #take the data less the header row\n",
    "        df.columns = new_header #set the header row as the df header\n",
    "        \n",
    "        df.rename(columns = {'Team[ vte ]' : 'Team', np.nan : 'Garbage'}, inplace=True) #renaming columns\n",
    "        \n",
    "        #renaming short form names of teams\n",
    "        team_names_col = df.columns.tolist()[-4:]\n",
    "        team_names = df.loc[:,'Team'].values.tolist()\n",
    "        team_names_col_replace = {}\n",
    "        for i, te in enumerate(team_names_col):\n",
    "            team_names_col_replace[te] = team_names[i]\n",
    "        df.rename(columns = team_names_col_replace, inplace=True)  \n",
    "        \n",
    "        df.reset_index(inplace=True)\n",
    "        df.iloc[1,12:] = df.iloc[1,12:].shift(1)\n",
    "        \n",
    "        #Enriching and cleaning data\n",
    "        df['Pts'] = df['Pts'].apply(intinstr)\n",
    "        df.drop(columns = ['index', 'Garbage', 'Qualification'], inplace=True) #dropping unnecessary columns\n",
    "        df['Season'] = year\n",
    "        df['HGF'] = df.iloc[:,10].apply(group_home_goals_f) + df.iloc[:,11].apply(group_home_goals_f) + df.iloc[:,12].apply(group_home_goals_f)+ df.iloc[:,13].apply(group_home_goals_f)\n",
    "        df['AGF'] = group_away_goals_f(df)\n",
    "        df['HGA'] = df.iloc[:,10].apply(group_home_goals_a) + df.iloc[:,11].apply(group_home_goals_a) + df.iloc[:,12].apply(group_home_goals_a)+ df.iloc[:,13].apply(group_home_goals_a)\n",
    "        df['AGA'] = group_away_goals_a(df)\n",
    "        df['HGD'] = df['HGF'] - df['HGA']\n",
    "        df['AGD'] = df['AGF'] - df['AGA']\n",
    "        df['Round_16'] = df['Pos'].apply(qualified_round_16)\n",
    "        df['League'] = df['Team'].map(teams_league_dict)\n",
    "        df['Pld'] = df['Pld'].astype(int)\n",
    "        df['Pts'] = df['Pts'].astype(int)\n",
    "        df['GF'] = df['GF'].astype(int)\n",
    "        df['GA'] = df['GA'].astype(int)\n",
    "        df['GD'] = df['GF'] - df['GA']\n",
    "        df['latitude'],df['longitude'] = zip(*df['Team'].apply(location))\n",
    "        teams.extend(df['Team'].tolist())\n",
    "        group_tables.append(df)\n",
    "\n",
    "    concat_group_tables.append(group_tables)\n",
    "\n",
    "#creating a dataframe of all unique teams from five UCL seasons and their leagues\n",
    "df_teams = pd.DataFrame()\n",
    "df_teams['Team'] = list(set(teams))\n",
    "df_teams.sort_values(by=['Team'], inplace=True)\n",
    "df_teams = df_teams.reset_index(drop=True)\n",
    "df_teams['League'] = df_teams['Team'].map(teams_league_dict)"
   ]
  },
  {
   "cell_type": "code",
   "execution_count": 6,
   "metadata": {},
   "outputs": [],
   "source": [
    "group_stage_yearly = []\n",
    "for temp in concat_group_tables:\n",
    "    temp_list = [df[['Pos', 'Team', 'Pld', 'W', 'D', 'L', 'GF', 'GA', 'GD', 'Pts', 'Season', 'HGF','AGF', 'HGA', 'AGA', 'HGD', 'AGD', 'Round_16', 'League', 'latitude', 'longitude']] for df in temp]\n",
    "    group_stage_yearly.append(pd.concat(temp_list).reset_index(drop=True))"
   ]
  },
  {
   "cell_type": "code",
   "execution_count": 7,
   "metadata": {},
   "outputs": [
    {
     "data": {
      "text/html": [
       "<div>\n",
       "<style scoped>\n",
       "    .dataframe tbody tr th:only-of-type {\n",
       "        vertical-align: middle;\n",
       "    }\n",
       "\n",
       "    .dataframe tbody tr th {\n",
       "        vertical-align: top;\n",
       "    }\n",
       "\n",
       "    .dataframe thead th {\n",
       "        text-align: right;\n",
       "    }\n",
       "</style>\n",
       "<table border=\"1\" class=\"dataframe\">\n",
       "  <thead>\n",
       "    <tr style=\"text-align: right;\">\n",
       "      <th></th>\n",
       "      <th>Pos</th>\n",
       "      <th>Team</th>\n",
       "      <th>Pld</th>\n",
       "      <th>W</th>\n",
       "      <th>D</th>\n",
       "      <th>L</th>\n",
       "      <th>GF</th>\n",
       "      <th>GA</th>\n",
       "      <th>GD</th>\n",
       "      <th>Pts</th>\n",
       "      <th>...</th>\n",
       "      <th>HGF</th>\n",
       "      <th>AGF</th>\n",
       "      <th>HGA</th>\n",
       "      <th>AGA</th>\n",
       "      <th>HGD</th>\n",
       "      <th>AGD</th>\n",
       "      <th>Round_16</th>\n",
       "      <th>League</th>\n",
       "      <th>latitude</th>\n",
       "      <th>longitude</th>\n",
       "    </tr>\n",
       "  </thead>\n",
       "  <tbody>\n",
       "    <tr>\n",
       "      <th>0</th>\n",
       "      <td>1</td>\n",
       "      <td>Borussia Dortmund</td>\n",
       "      <td>6</td>\n",
       "      <td>4</td>\n",
       "      <td>1</td>\n",
       "      <td>1</td>\n",
       "      <td>10</td>\n",
       "      <td>2</td>\n",
       "      <td>8</td>\n",
       "      <td>13</td>\n",
       "      <td>...</td>\n",
       "      <td>7</td>\n",
       "      <td>3</td>\n",
       "      <td>0</td>\n",
       "      <td>2</td>\n",
       "      <td>7</td>\n",
       "      <td>1</td>\n",
       "      <td>1</td>\n",
       "      <td>German Bundesliga</td>\n",
       "      <td>51.477224</td>\n",
       "      <td>7.373194</td>\n",
       "    </tr>\n",
       "    <tr>\n",
       "      <th>1</th>\n",
       "      <td>2</td>\n",
       "      <td>Atlético Madrid</td>\n",
       "      <td>6</td>\n",
       "      <td>4</td>\n",
       "      <td>1</td>\n",
       "      <td>1</td>\n",
       "      <td>9</td>\n",
       "      <td>6</td>\n",
       "      <td>3</td>\n",
       "      <td>13</td>\n",
       "      <td>...</td>\n",
       "      <td>7</td>\n",
       "      <td>2</td>\n",
       "      <td>1</td>\n",
       "      <td>5</td>\n",
       "      <td>6</td>\n",
       "      <td>-3</td>\n",
       "      <td>1</td>\n",
       "      <td>Spanish La Liga</td>\n",
       "      <td>40.399810</td>\n",
       "      <td>-3.721210</td>\n",
       "    </tr>\n",
       "    <tr>\n",
       "      <th>2</th>\n",
       "      <td>3</td>\n",
       "      <td>Club Brugge</td>\n",
       "      <td>6</td>\n",
       "      <td>1</td>\n",
       "      <td>3</td>\n",
       "      <td>2</td>\n",
       "      <td>6</td>\n",
       "      <td>5</td>\n",
       "      <td>1</td>\n",
       "      <td>6</td>\n",
       "      <td>...</td>\n",
       "      <td>1</td>\n",
       "      <td>5</td>\n",
       "      <td>2</td>\n",
       "      <td>3</td>\n",
       "      <td>-1</td>\n",
       "      <td>2</td>\n",
       "      <td>0</td>\n",
       "      <td>Belgian First Division A</td>\n",
       "      <td>51.208553</td>\n",
       "      <td>3.226772</td>\n",
       "    </tr>\n",
       "    <tr>\n",
       "      <th>3</th>\n",
       "      <td>4</td>\n",
       "      <td>Monaco</td>\n",
       "      <td>6</td>\n",
       "      <td>0</td>\n",
       "      <td>1</td>\n",
       "      <td>5</td>\n",
       "      <td>2</td>\n",
       "      <td>14</td>\n",
       "      <td>-12</td>\n",
       "      <td>1</td>\n",
       "      <td>...</td>\n",
       "      <td>1</td>\n",
       "      <td>1</td>\n",
       "      <td>8</td>\n",
       "      <td>6</td>\n",
       "      <td>-7</td>\n",
       "      <td>-5</td>\n",
       "      <td>0</td>\n",
       "      <td>France Ligue 1</td>\n",
       "      <td>43.732349</td>\n",
       "      <td>7.427683</td>\n",
       "    </tr>\n",
       "    <tr>\n",
       "      <th>4</th>\n",
       "      <td>1</td>\n",
       "      <td>Barcelona</td>\n",
       "      <td>6</td>\n",
       "      <td>4</td>\n",
       "      <td>2</td>\n",
       "      <td>0</td>\n",
       "      <td>14</td>\n",
       "      <td>5</td>\n",
       "      <td>9</td>\n",
       "      <td>14</td>\n",
       "      <td>...</td>\n",
       "      <td>7</td>\n",
       "      <td>7</td>\n",
       "      <td>1</td>\n",
       "      <td>4</td>\n",
       "      <td>6</td>\n",
       "      <td>3</td>\n",
       "      <td>1</td>\n",
       "      <td>Spanish La Liga</td>\n",
       "      <td>41.382894</td>\n",
       "      <td>2.177432</td>\n",
       "    </tr>\n",
       "  </tbody>\n",
       "</table>\n",
       "<p>5 rows × 21 columns</p>\n",
       "</div>"
      ],
      "text/plain": [
       "0 Pos               Team  Pld  W  D  L  GF  GA  GD  Pts    ...     HGF  AGF  \\\n",
       "0   1  Borussia Dortmund    6  4  1  1  10   2   8   13    ...       7    3   \n",
       "1   2    Atlético Madrid    6  4  1  1   9   6   3   13    ...       7    2   \n",
       "2   3        Club Brugge    6  1  3  2   6   5   1    6    ...       1    5   \n",
       "3   4             Monaco    6  0  1  5   2  14 -12    1    ...       1    1   \n",
       "4   1          Barcelona    6  4  2  0  14   5   9   14    ...       7    7   \n",
       "\n",
       "0  HGA  AGA  HGD  AGD  Round_16                    League   latitude  \\\n",
       "0    0    2    7    1         1         German Bundesliga  51.477224   \n",
       "1    1    5    6   -3         1           Spanish La Liga  40.399810   \n",
       "2    2    3   -1    2         0  Belgian First Division A  51.208553   \n",
       "3    8    6   -7   -5         0            France Ligue 1  43.732349   \n",
       "4    1    4    6    3         1           Spanish La Liga  41.382894   \n",
       "\n",
       "0  longitude  \n",
       "0   7.373194  \n",
       "1  -3.721210  \n",
       "2   3.226772  \n",
       "3   7.427683  \n",
       "4   2.177432  \n",
       "\n",
       "[5 rows x 21 columns]"
      ]
     },
     "execution_count": 7,
     "metadata": {},
     "output_type": "execute_result"
    }
   ],
   "source": [
    "group_stage_yearly[0].head()"
   ]
  },
  {
   "cell_type": "code",
   "execution_count": 8,
   "metadata": {},
   "outputs": [
    {
     "data": {
      "text/plain": [
       "\"fig, axes = plt.subplots(figsize=(16,16),nrows=2, ncols=2)\\n\\nplt.subplots_adjust(wspace = 0.5)\\n\\nax1 = group_stage_yearly[0].sort_values(by=['Pts'], ascending=0)[0:10].plot(ax=axes[0,0],kind='barh', width=0.75, x='Team',y=['Pts'])\\nax1.invert_yaxis()\\n#ax = group_stage_yearly[0].sort_values(by=['Pts'], ascending=0)[0:10].plot(kind='barh',x='Team',y=['Pts','GF','GA'])\\n\\nax2 = group_stage_yearly[0].sort_values(by=['GF'], ascending=0)[0:10].plot(ax=axes[0,1], kind='barh', width=0.75, x='Team',y=['GF'])\\nax2.invert_yaxis()\\n\\nax3 = group_stage_yearly[0].sort_values(by=['GA'], ascending=1)[0:10].plot(ax=axes[1,0], kind='barh', width=0.75, x='Team',y=['GA'])\\nax3.invert_yaxis()\\n\\nax3 = group_stage_yearly[0].sort_values(by=['GD'], ascending=0)[0:10].plot(ax=axes[1,1], kind='barh', width=0.75, x='Team',y=['GD'],)\\nax3.invert_yaxis()\""
      ]
     },
     "execution_count": 8,
     "metadata": {},
     "output_type": "execute_result"
    }
   ],
   "source": [
    "'''fig, axes = plt.subplots(figsize=(16,16),nrows=2, ncols=2)\n",
    "\n",
    "plt.subplots_adjust(wspace = 0.5)\n",
    "\n",
    "ax1 = group_stage_yearly[0].sort_values(by=['Pts'], ascending=0)[0:10].plot(ax=axes[0,0],kind='barh', width=0.75, x='Team',y=['Pts'])\n",
    "ax1.invert_yaxis()\n",
    "#ax = group_stage_yearly[0].sort_values(by=['Pts'], ascending=0)[0:10].plot(kind='barh',x='Team',y=['Pts','GF','GA'])\n",
    "\n",
    "ax2 = group_stage_yearly[0].sort_values(by=['GF'], ascending=0)[0:10].plot(ax=axes[0,1], kind='barh', width=0.75, x='Team',y=['GF'])\n",
    "ax2.invert_yaxis()\n",
    "\n",
    "ax3 = group_stage_yearly[0].sort_values(by=['GA'], ascending=1)[0:10].plot(ax=axes[1,0], kind='barh', width=0.75, x='Team',y=['GA'])\n",
    "ax3.invert_yaxis()\n",
    "\n",
    "ax3 = group_stage_yearly[0].sort_values(by=['GD'], ascending=0)[0:10].plot(ax=axes[1,1], kind='barh', width=0.75, x='Team',y=['GD'],)\n",
    "ax3.invert_yaxis()'''"
   ]
  },
  {
   "cell_type": "markdown",
   "metadata": {},
   "source": [
    "**Location of Teams in UEFA Champions League**"
   ]
  },
  {
   "cell_type": "code",
   "execution_count": 9,
   "metadata": {},
   "outputs": [],
   "source": [
    "df_group_stage = (pd.concat(group_stage_yearly).reset_index(drop=True)) #concatenating all season data into one dframe"
   ]
  },
  {
   "cell_type": "code",
   "execution_count": 10,
   "metadata": {},
   "outputs": [
    {
     "data": {
      "application/vnd.jupyter.widget-view+json": {
       "model_id": "2b96750a768041fcafab428c52196d54",
       "version_major": 2,
       "version_minor": 0
      },
      "text/plain": [
       "interactive(children=(Dropdown(description='season', options=('2018-19', '2017-18', '2016-17', '2015-16', '201…"
      ]
     },
     "metadata": {},
     "output_type": "display_data"
    }
   ],
   "source": [
    "@interact\n",
    "def map_plot(season=season):\n",
    "\n",
    "    df_plot = df_group_stage[df_group_stage['Season'] == season].reset_index(drop=True)\n",
    "    fig = px.scatter_mapbox(df_plot, lat=\"latitude\", lon=\"longitude\", hover_name=\"Team\",color_discrete_sequence=[\"fuchsia\"], zoom=3, height=300, center = {'lat':50, 'lon':16})\n",
    "    fig.update_layout(mapbox_style=\"open-street-map\")\n",
    "    fig.update_layout(height = 600, width = 1200, margin={\"r\":200,\"t\":0,\"l\":0,\"b\":50})\n",
    "    iplot(fig)"
   ]
  },
  {
   "cell_type": "markdown",
   "metadata": {},
   "source": [
    "**Exploring Teams Performance**"
   ]
  },
  {
   "cell_type": "code",
   "execution_count": 11,
   "metadata": {},
   "outputs": [
    {
     "data": {
      "application/vnd.jupyter.widget-view+json": {
       "model_id": "41df596423cb406fa2ee136ed0ad09e3",
       "version_major": 2,
       "version_minor": 0
      },
      "text/plain": [
       "interactive(children=(Dropdown(description='season', options=('2018-19', '2017-18', '2016-17', '2015-16', '201…"
      ]
     },
     "metadata": {},
     "output_type": "display_data"
    }
   ],
   "source": [
    "# Following interactive chart can be used to analyze multiple metrics(Points, Goals For, Goals Against, Home, Away etc.)\n",
    "# to measure teams performances in different UCL seasons/year \n",
    "\n",
    "@interact\n",
    "def bar_plot_1(season=season, performance = ['Overall', 'Home', 'Away'], top = [5,10,20]):\n",
    "    \n",
    "    if(performance == 'Overall'):\n",
    "        metric = ['GF', 'GA', 'GD']\n",
    "    elif(performance == 'Home'):\n",
    "        metric = ['HGF', 'HGA', 'HGD']\n",
    "    elif(performance == 'Away'):\n",
    "        metric = ['AGF', 'AGA', 'AGD']\n",
    "\n",
    "    df_plot = df_group_stage[df_group_stage['Season'] == season].reset_index(drop=True)\n",
    "    \n",
    "    trace1 = go.Bar(y = df_plot.sort_values(by=['Pts'], ascending=False).reset_index(drop=True)[0:top].sort_values(by=['Pts'], ascending=True).loc[:,'Team'], x = df_plot.sort_values(by=['Pts'], ascending=0).reset_index(drop=True)[0:top].sort_values(by=['Pts'], ascending=True).loc[:,'Pts'], name = 'Top Winning Teams (Points)', orientation='h')\n",
    "    trace2 = go.Bar(y = df_plot.sort_values(by=[metric[0]], ascending=0).reset_index(drop=True)[0:top].sort_values(by=[metric[0]], ascending=True).loc[:,'Team'], x = df_plot.sort_values(by=[metric[0]], ascending=0).reset_index(drop=True)[0:top].sort_values(by=[metric[0]], ascending=True).loc[:,metric[0]], name = 'Top Attacking Teams (Goals For)', orientation='h')\n",
    "    trace3 = go.Bar(y = df_plot.sort_values(by=[metric[1]], ascending=1).reset_index(drop=True)[0:top].sort_values(by=[metric[1]], ascending=False).loc[:,'Team'], x = df_plot.sort_values(by=[metric[1]], ascending=1).reset_index(drop=True)[0:top].sort_values(by=[metric[1]], ascending=False).loc[:,metric[1]], name = 'Top Defensive Teams (Goals Against)', orientation='h')\n",
    "    trace4 = go.Bar(y = df_plot.sort_values(by=[metric[2]], ascending=0).reset_index(drop=True)[0:top].sort_values(by=[metric[2]], ascending=True).loc[:,'Team'], x = df_plot.sort_values(by=[metric[2]], ascending=0).reset_index(drop=True)[0:top].sort_values(by=[metric[2]], ascending=True).loc[:,metric[2]], name = 'Top Balanced Teams (Goals Diff)', orientation='h')\n",
    "    trace5 = go.Scatter(y = df_plot.sort_values(by=[metric[2]], ascending=0).reset_index(drop=True)[0:top].sort_values(by=[metric[2]], ascending=True).loc[:,metric[0]], x = df_plot.sort_values(by=[metric[2]], ascending=0).reset_index(drop=True)[0:top].sort_values(by=[metric[2]], ascending=True).loc[:,metric[1]], text = df_plot.sort_values(by=[metric[2]], ascending=0).reset_index(drop=True)[0:top].sort_values(by=[metric[2]], ascending=True).loc[:,'Team'], mode='markers+text', textposition='top center', name = 'GF/GA')\n",
    "    layout5 = go.Layout(yaxis=dict(range=[df_plot['GF'].min(),df_plot['GF'].max()+2]), xaxis=dict(range=[df_plot['GA'].min()-1,df_plot['GA'].max()]))\n",
    "    \n",
    "    fig = tools.make_subplots(rows = 2, cols = 2, vertical_spacing=0.1,horizontal_spacing=0.25)\n",
    "    fig.append_trace(trace1, 1, 1)\n",
    "    fig.append_trace(trace2, 1, 2)\n",
    "    fig.append_trace(trace3, 2, 1)\n",
    "    fig.append_trace(trace4, 2, 2)\n",
    "    fig['layout'].update( height = 800, width = 1000, title = 'Teams Performance')\n",
    "    iplot(fig)\n",
    "    \n",
    "    fig1 = go.Figure()\n",
    "    fig1.add_trace(trace5)\n",
    "    fig1.update_layout(layout5, title='Goals For Vs Goals Against',\n",
    "                   xaxis_title='GA',\n",
    "                   yaxis_title='GF')\n",
    "    iplot(fig1)    "
   ]
  },
  {
   "cell_type": "markdown",
   "metadata": {},
   "source": [
    "**Exploring Country/Leagues Performance**"
   ]
  },
  {
   "cell_type": "code",
   "execution_count": 12,
   "metadata": {
    "scrolled": false
   },
   "outputs": [
    {
     "data": {
      "application/vnd.jupyter.widget-view+json": {
       "model_id": "a04028f3a75c4cd1b3b67a7f2adb9bd7",
       "version_major": 2,
       "version_minor": 0
      },
      "text/plain": [
       "interactive(children=(Dropdown(description='season', options=('2018-19', '2017-18', '2016-17', '2015-16', '201…"
      ]
     },
     "metadata": {},
     "output_type": "display_data"
    }
   ],
   "source": [
    "# Following interactive chart can be used to analyze multiple metrics(Goals For, Goals Against, etc.)\n",
    "# to measure League/Country performances from different UCL seasons/year\n",
    "\n",
    "#Note GF: Goals scored For\n",
    "#     GA: Goals scored Against\n",
    "#     GD: Goal Difference      \n",
    "\n",
    "@interact\n",
    "def bar_plot_2(season=season, metric = ['GF', 'GA', 'GD']):\n",
    "    \n",
    "\n",
    "    df_plot = df_group_stage[df_group_stage['Season'] == season].reset_index(drop=True)\n",
    "    df_plot_group = df_plot.groupby(['League']).size().reset_index(name='count').sort_values(by=['count'])\n",
    "    df_plot_group_gf = df_plot[['League', metric]].groupby(['League']).sum().reset_index().sort_values(by=[metric])\n",
    "    df_plot_group_gf_avg = pd.merge(df_plot_group, df_plot_group_gf, on = 'League')\n",
    "    df_plot_group_gf_avg[metric + '_Avg']  = df_plot_group_gf_avg[metric] / df_plot_group_gf_avg['count']\n",
    "    df_plot_group_gf_avg.sort_values(by = [metric + '_Avg'], inplace = True)\n",
    "       \n",
    "    trace1 = go.Bar(y = df_plot_group['League'], x = df_plot_group['count'], name = 'No. of Teams/League', orientation='h')\n",
    "    trace2 = go.Bar(y = df_plot_group_gf['League'], x = df_plot_group_gf[metric], name = metric + '/League', orientation='h')\n",
    "    trace3 = go.Bar(y = df_plot_group_gf_avg['League'], x = df_plot_group_gf_avg[metric + '_Avg'], name = metric + '_Avg/League', orientation='h')\n",
    "\n",
    "    fig = tools.make_subplots(rows = 2, cols = 2, vertical_spacing=0.1,horizontal_spacing=0.3)\n",
    "    fig.append_trace(trace1, 1, 1)\n",
    "    fig.append_trace(trace2, 2, 1)\n",
    "    fig.append_trace(trace3, 2, 2)\n",
    "    fig['layout'].update(height = 800, width = 950, title = 'League wise Stats')\n",
    "    iplot(fig) "
   ]
  },
  {
   "cell_type": "markdown",
   "metadata": {},
   "source": [
    "**Exploring Season Stats**  "
   ]
  },
  {
   "cell_type": "code",
   "execution_count": 13,
   "metadata": {},
   "outputs": [
    {
     "data": {
      "application/vnd.plotly.v1+json": {
       "config": {
        "plotlyServerURL": "https://plot.ly"
       },
       "data": [
        {
         "name": "Goals/Season",
         "type": "bar",
         "x": [
          "2014-15",
          "2015-16",
          "2016-17",
          "2017-18",
          "2018-19"
         ],
         "xaxis": "x",
         "y": [
          279,
          280,
          278,
          306,
          275
         ],
         "yaxis": "y"
        },
        {
         "name": "GoalsperMatch/Season",
         "type": "bar",
         "x": [
          "2014-15",
          "2015-16",
          "2016-17",
          "2017-18",
          "2018-19"
         ],
         "xaxis": "x2",
         "y": [
          2.90625,
          2.9166666666666665,
          2.8958333333333335,
          3.1875,
          2.8645833333333335
         ],
         "yaxis": "y2"
        }
       ],
       "layout": {
        "height": 400,
        "template": {
         "data": {
          "bar": [
           {
            "error_x": {
             "color": "#2a3f5f"
            },
            "error_y": {
             "color": "#2a3f5f"
            },
            "marker": {
             "line": {
              "color": "#E5ECF6",
              "width": 0.5
             }
            },
            "type": "bar"
           }
          ],
          "barpolar": [
           {
            "marker": {
             "line": {
              "color": "#E5ECF6",
              "width": 0.5
             }
            },
            "type": "barpolar"
           }
          ],
          "carpet": [
           {
            "aaxis": {
             "endlinecolor": "#2a3f5f",
             "gridcolor": "white",
             "linecolor": "white",
             "minorgridcolor": "white",
             "startlinecolor": "#2a3f5f"
            },
            "baxis": {
             "endlinecolor": "#2a3f5f",
             "gridcolor": "white",
             "linecolor": "white",
             "minorgridcolor": "white",
             "startlinecolor": "#2a3f5f"
            },
            "type": "carpet"
           }
          ],
          "choropleth": [
           {
            "colorbar": {
             "outlinewidth": 0,
             "ticks": ""
            },
            "type": "choropleth"
           }
          ],
          "contour": [
           {
            "colorbar": {
             "outlinewidth": 0,
             "ticks": ""
            },
            "colorscale": [
             [
              0,
              "#0d0887"
             ],
             [
              0.1111111111111111,
              "#46039f"
             ],
             [
              0.2222222222222222,
              "#7201a8"
             ],
             [
              0.3333333333333333,
              "#9c179e"
             ],
             [
              0.4444444444444444,
              "#bd3786"
             ],
             [
              0.5555555555555556,
              "#d8576b"
             ],
             [
              0.6666666666666666,
              "#ed7953"
             ],
             [
              0.7777777777777778,
              "#fb9f3a"
             ],
             [
              0.8888888888888888,
              "#fdca26"
             ],
             [
              1,
              "#f0f921"
             ]
            ],
            "type": "contour"
           }
          ],
          "contourcarpet": [
           {
            "colorbar": {
             "outlinewidth": 0,
             "ticks": ""
            },
            "type": "contourcarpet"
           }
          ],
          "heatmap": [
           {
            "colorbar": {
             "outlinewidth": 0,
             "ticks": ""
            },
            "colorscale": [
             [
              0,
              "#0d0887"
             ],
             [
              0.1111111111111111,
              "#46039f"
             ],
             [
              0.2222222222222222,
              "#7201a8"
             ],
             [
              0.3333333333333333,
              "#9c179e"
             ],
             [
              0.4444444444444444,
              "#bd3786"
             ],
             [
              0.5555555555555556,
              "#d8576b"
             ],
             [
              0.6666666666666666,
              "#ed7953"
             ],
             [
              0.7777777777777778,
              "#fb9f3a"
             ],
             [
              0.8888888888888888,
              "#fdca26"
             ],
             [
              1,
              "#f0f921"
             ]
            ],
            "type": "heatmap"
           }
          ],
          "heatmapgl": [
           {
            "colorbar": {
             "outlinewidth": 0,
             "ticks": ""
            },
            "colorscale": [
             [
              0,
              "#0d0887"
             ],
             [
              0.1111111111111111,
              "#46039f"
             ],
             [
              0.2222222222222222,
              "#7201a8"
             ],
             [
              0.3333333333333333,
              "#9c179e"
             ],
             [
              0.4444444444444444,
              "#bd3786"
             ],
             [
              0.5555555555555556,
              "#d8576b"
             ],
             [
              0.6666666666666666,
              "#ed7953"
             ],
             [
              0.7777777777777778,
              "#fb9f3a"
             ],
             [
              0.8888888888888888,
              "#fdca26"
             ],
             [
              1,
              "#f0f921"
             ]
            ],
            "type": "heatmapgl"
           }
          ],
          "histogram": [
           {
            "marker": {
             "colorbar": {
              "outlinewidth": 0,
              "ticks": ""
             }
            },
            "type": "histogram"
           }
          ],
          "histogram2d": [
           {
            "colorbar": {
             "outlinewidth": 0,
             "ticks": ""
            },
            "colorscale": [
             [
              0,
              "#0d0887"
             ],
             [
              0.1111111111111111,
              "#46039f"
             ],
             [
              0.2222222222222222,
              "#7201a8"
             ],
             [
              0.3333333333333333,
              "#9c179e"
             ],
             [
              0.4444444444444444,
              "#bd3786"
             ],
             [
              0.5555555555555556,
              "#d8576b"
             ],
             [
              0.6666666666666666,
              "#ed7953"
             ],
             [
              0.7777777777777778,
              "#fb9f3a"
             ],
             [
              0.8888888888888888,
              "#fdca26"
             ],
             [
              1,
              "#f0f921"
             ]
            ],
            "type": "histogram2d"
           }
          ],
          "histogram2dcontour": [
           {
            "colorbar": {
             "outlinewidth": 0,
             "ticks": ""
            },
            "colorscale": [
             [
              0,
              "#0d0887"
             ],
             [
              0.1111111111111111,
              "#46039f"
             ],
             [
              0.2222222222222222,
              "#7201a8"
             ],
             [
              0.3333333333333333,
              "#9c179e"
             ],
             [
              0.4444444444444444,
              "#bd3786"
             ],
             [
              0.5555555555555556,
              "#d8576b"
             ],
             [
              0.6666666666666666,
              "#ed7953"
             ],
             [
              0.7777777777777778,
              "#fb9f3a"
             ],
             [
              0.8888888888888888,
              "#fdca26"
             ],
             [
              1,
              "#f0f921"
             ]
            ],
            "type": "histogram2dcontour"
           }
          ],
          "mesh3d": [
           {
            "colorbar": {
             "outlinewidth": 0,
             "ticks": ""
            },
            "type": "mesh3d"
           }
          ],
          "parcoords": [
           {
            "line": {
             "colorbar": {
              "outlinewidth": 0,
              "ticks": ""
             }
            },
            "type": "parcoords"
           }
          ],
          "pie": [
           {
            "automargin": true,
            "type": "pie"
           }
          ],
          "scatter": [
           {
            "marker": {
             "colorbar": {
              "outlinewidth": 0,
              "ticks": ""
             }
            },
            "type": "scatter"
           }
          ],
          "scatter3d": [
           {
            "line": {
             "colorbar": {
              "outlinewidth": 0,
              "ticks": ""
             }
            },
            "marker": {
             "colorbar": {
              "outlinewidth": 0,
              "ticks": ""
             }
            },
            "type": "scatter3d"
           }
          ],
          "scattercarpet": [
           {
            "marker": {
             "colorbar": {
              "outlinewidth": 0,
              "ticks": ""
             }
            },
            "type": "scattercarpet"
           }
          ],
          "scattergeo": [
           {
            "marker": {
             "colorbar": {
              "outlinewidth": 0,
              "ticks": ""
             }
            },
            "type": "scattergeo"
           }
          ],
          "scattergl": [
           {
            "marker": {
             "colorbar": {
              "outlinewidth": 0,
              "ticks": ""
             }
            },
            "type": "scattergl"
           }
          ],
          "scattermapbox": [
           {
            "marker": {
             "colorbar": {
              "outlinewidth": 0,
              "ticks": ""
             }
            },
            "type": "scattermapbox"
           }
          ],
          "scatterpolar": [
           {
            "marker": {
             "colorbar": {
              "outlinewidth": 0,
              "ticks": ""
             }
            },
            "type": "scatterpolar"
           }
          ],
          "scatterpolargl": [
           {
            "marker": {
             "colorbar": {
              "outlinewidth": 0,
              "ticks": ""
             }
            },
            "type": "scatterpolargl"
           }
          ],
          "scatterternary": [
           {
            "marker": {
             "colorbar": {
              "outlinewidth": 0,
              "ticks": ""
             }
            },
            "type": "scatterternary"
           }
          ],
          "surface": [
           {
            "colorbar": {
             "outlinewidth": 0,
             "ticks": ""
            },
            "colorscale": [
             [
              0,
              "#0d0887"
             ],
             [
              0.1111111111111111,
              "#46039f"
             ],
             [
              0.2222222222222222,
              "#7201a8"
             ],
             [
              0.3333333333333333,
              "#9c179e"
             ],
             [
              0.4444444444444444,
              "#bd3786"
             ],
             [
              0.5555555555555556,
              "#d8576b"
             ],
             [
              0.6666666666666666,
              "#ed7953"
             ],
             [
              0.7777777777777778,
              "#fb9f3a"
             ],
             [
              0.8888888888888888,
              "#fdca26"
             ],
             [
              1,
              "#f0f921"
             ]
            ],
            "type": "surface"
           }
          ],
          "table": [
           {
            "cells": {
             "fill": {
              "color": "#EBF0F8"
             },
             "line": {
              "color": "white"
             }
            },
            "header": {
             "fill": {
              "color": "#C8D4E3"
             },
             "line": {
              "color": "white"
             }
            },
            "type": "table"
           }
          ]
         },
         "layout": {
          "annotationdefaults": {
           "arrowcolor": "#2a3f5f",
           "arrowhead": 0,
           "arrowwidth": 1
          },
          "coloraxis": {
           "colorbar": {
            "outlinewidth": 0,
            "ticks": ""
           }
          },
          "colorscale": {
           "diverging": [
            [
             0,
             "#8e0152"
            ],
            [
             0.1,
             "#c51b7d"
            ],
            [
             0.2,
             "#de77ae"
            ],
            [
             0.3,
             "#f1b6da"
            ],
            [
             0.4,
             "#fde0ef"
            ],
            [
             0.5,
             "#f7f7f7"
            ],
            [
             0.6,
             "#e6f5d0"
            ],
            [
             0.7,
             "#b8e186"
            ],
            [
             0.8,
             "#7fbc41"
            ],
            [
             0.9,
             "#4d9221"
            ],
            [
             1,
             "#276419"
            ]
           ],
           "sequential": [
            [
             0,
             "#0d0887"
            ],
            [
             0.1111111111111111,
             "#46039f"
            ],
            [
             0.2222222222222222,
             "#7201a8"
            ],
            [
             0.3333333333333333,
             "#9c179e"
            ],
            [
             0.4444444444444444,
             "#bd3786"
            ],
            [
             0.5555555555555556,
             "#d8576b"
            ],
            [
             0.6666666666666666,
             "#ed7953"
            ],
            [
             0.7777777777777778,
             "#fb9f3a"
            ],
            [
             0.8888888888888888,
             "#fdca26"
            ],
            [
             1,
             "#f0f921"
            ]
           ],
           "sequentialminus": [
            [
             0,
             "#0d0887"
            ],
            [
             0.1111111111111111,
             "#46039f"
            ],
            [
             0.2222222222222222,
             "#7201a8"
            ],
            [
             0.3333333333333333,
             "#9c179e"
            ],
            [
             0.4444444444444444,
             "#bd3786"
            ],
            [
             0.5555555555555556,
             "#d8576b"
            ],
            [
             0.6666666666666666,
             "#ed7953"
            ],
            [
             0.7777777777777778,
             "#fb9f3a"
            ],
            [
             0.8888888888888888,
             "#fdca26"
            ],
            [
             1,
             "#f0f921"
            ]
           ]
          },
          "colorway": [
           "#636efa",
           "#EF553B",
           "#00cc96",
           "#ab63fa",
           "#FFA15A",
           "#19d3f3",
           "#FF6692",
           "#B6E880",
           "#FF97FF",
           "#FECB52"
          ],
          "font": {
           "color": "#2a3f5f"
          },
          "geo": {
           "bgcolor": "white",
           "lakecolor": "white",
           "landcolor": "#E5ECF6",
           "showlakes": true,
           "showland": true,
           "subunitcolor": "white"
          },
          "hoverlabel": {
           "align": "left"
          },
          "hovermode": "closest",
          "mapbox": {
           "style": "light"
          },
          "paper_bgcolor": "white",
          "plot_bgcolor": "#E5ECF6",
          "polar": {
           "angularaxis": {
            "gridcolor": "white",
            "linecolor": "white",
            "ticks": ""
           },
           "bgcolor": "#E5ECF6",
           "radialaxis": {
            "gridcolor": "white",
            "linecolor": "white",
            "ticks": ""
           }
          },
          "scene": {
           "xaxis": {
            "backgroundcolor": "#E5ECF6",
            "gridcolor": "white",
            "gridwidth": 2,
            "linecolor": "white",
            "showbackground": true,
            "ticks": "",
            "zerolinecolor": "white"
           },
           "yaxis": {
            "backgroundcolor": "#E5ECF6",
            "gridcolor": "white",
            "gridwidth": 2,
            "linecolor": "white",
            "showbackground": true,
            "ticks": "",
            "zerolinecolor": "white"
           },
           "zaxis": {
            "backgroundcolor": "#E5ECF6",
            "gridcolor": "white",
            "gridwidth": 2,
            "linecolor": "white",
            "showbackground": true,
            "ticks": "",
            "zerolinecolor": "white"
           }
          },
          "shapedefaults": {
           "line": {
            "color": "#2a3f5f"
           }
          },
          "ternary": {
           "aaxis": {
            "gridcolor": "white",
            "linecolor": "white",
            "ticks": ""
           },
           "baxis": {
            "gridcolor": "white",
            "linecolor": "white",
            "ticks": ""
           },
           "bgcolor": "#E5ECF6",
           "caxis": {
            "gridcolor": "white",
            "linecolor": "white",
            "ticks": ""
           }
          },
          "title": {
           "x": 0.05
          },
          "xaxis": {
           "automargin": true,
           "gridcolor": "white",
           "linecolor": "white",
           "ticks": "",
           "title": {
            "standoff": 15
           },
           "zerolinecolor": "white",
           "zerolinewidth": 2
          },
          "yaxis": {
           "automargin": true,
           "gridcolor": "white",
           "linecolor": "white",
           "ticks": "",
           "title": {
            "standoff": 15
           },
           "zerolinecolor": "white",
           "zerolinewidth": 2
          }
         }
        },
        "title": {
         "text": "Season wise Stats"
        },
        "width": 1000,
        "xaxis": {
         "anchor": "y",
         "domain": [
          0,
          0.4
         ]
        },
        "xaxis2": {
         "anchor": "y2",
         "domain": [
          0.6000000000000001,
          1
         ]
        },
        "yaxis": {
         "anchor": "x",
         "domain": [
          0,
          1
         ]
        },
        "yaxis2": {
         "anchor": "x2",
         "domain": [
          0,
          1
         ]
        }
       }
      },
      "text/html": [
       "<div>\n",
       "        \n",
       "        \n",
       "            <div id=\"ea349c52-ac10-4dfc-9ec6-2159ecde08d1\" class=\"plotly-graph-div\" style=\"height:400px; width:1000px;\"></div>\n",
       "            <script type=\"text/javascript\">\n",
       "                require([\"plotly\"], function(Plotly) {\n",
       "                    window.PLOTLYENV=window.PLOTLYENV || {};\n",
       "                    \n",
       "                if (document.getElementById(\"ea349c52-ac10-4dfc-9ec6-2159ecde08d1\")) {\n",
       "                    Plotly.newPlot(\n",
       "                        'ea349c52-ac10-4dfc-9ec6-2159ecde08d1',\n",
       "                        [{\"name\": \"Goals/Season\", \"type\": \"bar\", \"x\": [\"2014-15\", \"2015-16\", \"2016-17\", \"2017-18\", \"2018-19\"], \"xaxis\": \"x\", \"y\": [279, 280, 278, 306, 275], \"yaxis\": \"y\"}, {\"name\": \"GoalsperMatch/Season\", \"type\": \"bar\", \"x\": [\"2014-15\", \"2015-16\", \"2016-17\", \"2017-18\", \"2018-19\"], \"xaxis\": \"x2\", \"y\": [2.90625, 2.9166666666666665, 2.8958333333333335, 3.1875, 2.8645833333333335], \"yaxis\": \"y2\"}],\n",
       "                        {\"height\": 400, \"template\": {\"data\": {\"bar\": [{\"error_x\": {\"color\": \"#2a3f5f\"}, \"error_y\": {\"color\": \"#2a3f5f\"}, \"marker\": {\"line\": {\"color\": \"#E5ECF6\", \"width\": 0.5}}, \"type\": \"bar\"}], \"barpolar\": [{\"marker\": {\"line\": {\"color\": \"#E5ECF6\", \"width\": 0.5}}, \"type\": \"barpolar\"}], \"carpet\": [{\"aaxis\": {\"endlinecolor\": \"#2a3f5f\", \"gridcolor\": \"white\", \"linecolor\": \"white\", \"minorgridcolor\": \"white\", \"startlinecolor\": \"#2a3f5f\"}, \"baxis\": {\"endlinecolor\": \"#2a3f5f\", \"gridcolor\": \"white\", \"linecolor\": \"white\", \"minorgridcolor\": \"white\", \"startlinecolor\": \"#2a3f5f\"}, \"type\": \"carpet\"}], \"choropleth\": [{\"colorbar\": {\"outlinewidth\": 0, \"ticks\": \"\"}, \"type\": \"choropleth\"}], \"contour\": [{\"colorbar\": {\"outlinewidth\": 0, \"ticks\": \"\"}, \"colorscale\": [[0.0, \"#0d0887\"], [0.1111111111111111, \"#46039f\"], [0.2222222222222222, \"#7201a8\"], [0.3333333333333333, \"#9c179e\"], [0.4444444444444444, \"#bd3786\"], [0.5555555555555556, \"#d8576b\"], [0.6666666666666666, \"#ed7953\"], [0.7777777777777778, \"#fb9f3a\"], [0.8888888888888888, \"#fdca26\"], [1.0, \"#f0f921\"]], \"type\": \"contour\"}], \"contourcarpet\": [{\"colorbar\": {\"outlinewidth\": 0, \"ticks\": \"\"}, \"type\": \"contourcarpet\"}], \"heatmap\": [{\"colorbar\": {\"outlinewidth\": 0, \"ticks\": \"\"}, \"colorscale\": [[0.0, \"#0d0887\"], [0.1111111111111111, \"#46039f\"], [0.2222222222222222, \"#7201a8\"], [0.3333333333333333, \"#9c179e\"], [0.4444444444444444, \"#bd3786\"], [0.5555555555555556, \"#d8576b\"], [0.6666666666666666, \"#ed7953\"], [0.7777777777777778, \"#fb9f3a\"], [0.8888888888888888, \"#fdca26\"], [1.0, \"#f0f921\"]], \"type\": \"heatmap\"}], \"heatmapgl\": [{\"colorbar\": {\"outlinewidth\": 0, \"ticks\": \"\"}, \"colorscale\": [[0.0, \"#0d0887\"], [0.1111111111111111, \"#46039f\"], [0.2222222222222222, \"#7201a8\"], [0.3333333333333333, \"#9c179e\"], [0.4444444444444444, \"#bd3786\"], [0.5555555555555556, \"#d8576b\"], [0.6666666666666666, \"#ed7953\"], [0.7777777777777778, \"#fb9f3a\"], [0.8888888888888888, \"#fdca26\"], [1.0, \"#f0f921\"]], \"type\": \"heatmapgl\"}], \"histogram\": [{\"marker\": {\"colorbar\": {\"outlinewidth\": 0, \"ticks\": \"\"}}, \"type\": \"histogram\"}], \"histogram2d\": [{\"colorbar\": {\"outlinewidth\": 0, \"ticks\": \"\"}, \"colorscale\": [[0.0, \"#0d0887\"], [0.1111111111111111, \"#46039f\"], [0.2222222222222222, \"#7201a8\"], [0.3333333333333333, \"#9c179e\"], [0.4444444444444444, \"#bd3786\"], [0.5555555555555556, \"#d8576b\"], [0.6666666666666666, \"#ed7953\"], [0.7777777777777778, \"#fb9f3a\"], [0.8888888888888888, \"#fdca26\"], [1.0, \"#f0f921\"]], \"type\": \"histogram2d\"}], \"histogram2dcontour\": [{\"colorbar\": {\"outlinewidth\": 0, \"ticks\": \"\"}, \"colorscale\": [[0.0, \"#0d0887\"], [0.1111111111111111, \"#46039f\"], [0.2222222222222222, \"#7201a8\"], [0.3333333333333333, \"#9c179e\"], [0.4444444444444444, \"#bd3786\"], [0.5555555555555556, \"#d8576b\"], [0.6666666666666666, \"#ed7953\"], [0.7777777777777778, \"#fb9f3a\"], [0.8888888888888888, \"#fdca26\"], [1.0, \"#f0f921\"]], \"type\": \"histogram2dcontour\"}], \"mesh3d\": [{\"colorbar\": {\"outlinewidth\": 0, \"ticks\": \"\"}, \"type\": \"mesh3d\"}], \"parcoords\": [{\"line\": {\"colorbar\": {\"outlinewidth\": 0, \"ticks\": \"\"}}, \"type\": \"parcoords\"}], \"pie\": [{\"automargin\": true, \"type\": \"pie\"}], \"scatter\": [{\"marker\": {\"colorbar\": {\"outlinewidth\": 0, \"ticks\": \"\"}}, \"type\": \"scatter\"}], \"scatter3d\": [{\"line\": {\"colorbar\": {\"outlinewidth\": 0, \"ticks\": \"\"}}, \"marker\": {\"colorbar\": {\"outlinewidth\": 0, \"ticks\": \"\"}}, \"type\": \"scatter3d\"}], \"scattercarpet\": [{\"marker\": {\"colorbar\": {\"outlinewidth\": 0, \"ticks\": \"\"}}, \"type\": \"scattercarpet\"}], \"scattergeo\": [{\"marker\": {\"colorbar\": {\"outlinewidth\": 0, \"ticks\": \"\"}}, \"type\": \"scattergeo\"}], \"scattergl\": [{\"marker\": {\"colorbar\": {\"outlinewidth\": 0, \"ticks\": \"\"}}, \"type\": \"scattergl\"}], \"scattermapbox\": [{\"marker\": {\"colorbar\": {\"outlinewidth\": 0, \"ticks\": \"\"}}, \"type\": \"scattermapbox\"}], \"scatterpolar\": [{\"marker\": {\"colorbar\": {\"outlinewidth\": 0, \"ticks\": \"\"}}, \"type\": \"scatterpolar\"}], \"scatterpolargl\": [{\"marker\": {\"colorbar\": {\"outlinewidth\": 0, \"ticks\": \"\"}}, \"type\": \"scatterpolargl\"}], \"scatterternary\": [{\"marker\": {\"colorbar\": {\"outlinewidth\": 0, \"ticks\": \"\"}}, \"type\": \"scatterternary\"}], \"surface\": [{\"colorbar\": {\"outlinewidth\": 0, \"ticks\": \"\"}, \"colorscale\": [[0.0, \"#0d0887\"], [0.1111111111111111, \"#46039f\"], [0.2222222222222222, \"#7201a8\"], [0.3333333333333333, \"#9c179e\"], [0.4444444444444444, \"#bd3786\"], [0.5555555555555556, \"#d8576b\"], [0.6666666666666666, \"#ed7953\"], [0.7777777777777778, \"#fb9f3a\"], [0.8888888888888888, \"#fdca26\"], [1.0, \"#f0f921\"]], \"type\": \"surface\"}], \"table\": [{\"cells\": {\"fill\": {\"color\": \"#EBF0F8\"}, \"line\": {\"color\": \"white\"}}, \"header\": {\"fill\": {\"color\": \"#C8D4E3\"}, \"line\": {\"color\": \"white\"}}, \"type\": \"table\"}]}, \"layout\": {\"annotationdefaults\": {\"arrowcolor\": \"#2a3f5f\", \"arrowhead\": 0, \"arrowwidth\": 1}, \"coloraxis\": {\"colorbar\": {\"outlinewidth\": 0, \"ticks\": \"\"}}, \"colorscale\": {\"diverging\": [[0, \"#8e0152\"], [0.1, \"#c51b7d\"], [0.2, \"#de77ae\"], [0.3, \"#f1b6da\"], [0.4, \"#fde0ef\"], [0.5, \"#f7f7f7\"], [0.6, \"#e6f5d0\"], [0.7, \"#b8e186\"], [0.8, \"#7fbc41\"], [0.9, \"#4d9221\"], [1, \"#276419\"]], \"sequential\": [[0.0, \"#0d0887\"], [0.1111111111111111, \"#46039f\"], [0.2222222222222222, \"#7201a8\"], [0.3333333333333333, \"#9c179e\"], [0.4444444444444444, \"#bd3786\"], [0.5555555555555556, \"#d8576b\"], [0.6666666666666666, \"#ed7953\"], [0.7777777777777778, \"#fb9f3a\"], [0.8888888888888888, \"#fdca26\"], [1.0, \"#f0f921\"]], \"sequentialminus\": [[0.0, \"#0d0887\"], [0.1111111111111111, \"#46039f\"], [0.2222222222222222, \"#7201a8\"], [0.3333333333333333, \"#9c179e\"], [0.4444444444444444, \"#bd3786\"], [0.5555555555555556, \"#d8576b\"], [0.6666666666666666, \"#ed7953\"], [0.7777777777777778, \"#fb9f3a\"], [0.8888888888888888, \"#fdca26\"], [1.0, \"#f0f921\"]]}, \"colorway\": [\"#636efa\", \"#EF553B\", \"#00cc96\", \"#ab63fa\", \"#FFA15A\", \"#19d3f3\", \"#FF6692\", \"#B6E880\", \"#FF97FF\", \"#FECB52\"], \"font\": {\"color\": \"#2a3f5f\"}, \"geo\": {\"bgcolor\": \"white\", \"lakecolor\": \"white\", \"landcolor\": \"#E5ECF6\", \"showlakes\": true, \"showland\": true, \"subunitcolor\": \"white\"}, \"hoverlabel\": {\"align\": \"left\"}, \"hovermode\": \"closest\", \"mapbox\": {\"style\": \"light\"}, \"paper_bgcolor\": \"white\", \"plot_bgcolor\": \"#E5ECF6\", \"polar\": {\"angularaxis\": {\"gridcolor\": \"white\", \"linecolor\": \"white\", \"ticks\": \"\"}, \"bgcolor\": \"#E5ECF6\", \"radialaxis\": {\"gridcolor\": \"white\", \"linecolor\": \"white\", \"ticks\": \"\"}}, \"scene\": {\"xaxis\": {\"backgroundcolor\": \"#E5ECF6\", \"gridcolor\": \"white\", \"gridwidth\": 2, \"linecolor\": \"white\", \"showbackground\": true, \"ticks\": \"\", \"zerolinecolor\": \"white\"}, \"yaxis\": {\"backgroundcolor\": \"#E5ECF6\", \"gridcolor\": \"white\", \"gridwidth\": 2, \"linecolor\": \"white\", \"showbackground\": true, \"ticks\": \"\", \"zerolinecolor\": \"white\"}, \"zaxis\": {\"backgroundcolor\": \"#E5ECF6\", \"gridcolor\": \"white\", \"gridwidth\": 2, \"linecolor\": \"white\", \"showbackground\": true, \"ticks\": \"\", \"zerolinecolor\": \"white\"}}, \"shapedefaults\": {\"line\": {\"color\": \"#2a3f5f\"}}, \"ternary\": {\"aaxis\": {\"gridcolor\": \"white\", \"linecolor\": \"white\", \"ticks\": \"\"}, \"baxis\": {\"gridcolor\": \"white\", \"linecolor\": \"white\", \"ticks\": \"\"}, \"bgcolor\": \"#E5ECF6\", \"caxis\": {\"gridcolor\": \"white\", \"linecolor\": \"white\", \"ticks\": \"\"}}, \"title\": {\"x\": 0.05}, \"xaxis\": {\"automargin\": true, \"gridcolor\": \"white\", \"linecolor\": \"white\", \"ticks\": \"\", \"title\": {\"standoff\": 15}, \"zerolinecolor\": \"white\", \"zerolinewidth\": 2}, \"yaxis\": {\"automargin\": true, \"gridcolor\": \"white\", \"linecolor\": \"white\", \"ticks\": \"\", \"title\": {\"standoff\": 15}, \"zerolinecolor\": \"white\", \"zerolinewidth\": 2}}}, \"title\": {\"text\": \"Season wise Stats\"}, \"width\": 1000, \"xaxis\": {\"anchor\": \"y\", \"domain\": [0.0, 0.4]}, \"xaxis2\": {\"anchor\": \"y2\", \"domain\": [0.6000000000000001, 1.0]}, \"yaxis\": {\"anchor\": \"x\", \"domain\": [0.0, 1.0]}, \"yaxis2\": {\"anchor\": \"x2\", \"domain\": [0.0, 1.0]}},\n",
       "                        {\"responsive\": true}\n",
       "                    ).then(function(){\n",
       "                            \n",
       "var gd = document.getElementById('ea349c52-ac10-4dfc-9ec6-2159ecde08d1');\n",
       "var x = new MutationObserver(function (mutations, observer) {{\n",
       "        var display = window.getComputedStyle(gd).display;\n",
       "        if (!display || display === 'none') {{\n",
       "            console.log([gd, 'removed!']);\n",
       "            Plotly.purge(gd);\n",
       "            observer.disconnect();\n",
       "        }}\n",
       "}});\n",
       "\n",
       "// Listen for the removal of the full notebook cells\n",
       "var notebookContainer = gd.closest('#notebook-container');\n",
       "if (notebookContainer) {{\n",
       "    x.observe(notebookContainer, {childList: true});\n",
       "}}\n",
       "\n",
       "// Listen for the clearing of the current output cell\n",
       "var outputEl = gd.closest('.output');\n",
       "if (outputEl) {{\n",
       "    x.observe(outputEl, {childList: true});\n",
       "}}\n",
       "\n",
       "                        })\n",
       "                };\n",
       "                });\n",
       "            </script>\n",
       "        </div>"
      ]
     },
     "metadata": {},
     "output_type": "display_data"
    }
   ],
   "source": [
    "#@interact\n",
    "def bar_plot_3():\n",
    "    \n",
    "    total_matches = 96\n",
    "    df_plot = df_group_stage[['Season','GF']].groupby(['Season']).sum().reset_index()\n",
    "    df_plot['Avg_Goals'] = df_plot['GF']/total_matches\n",
    "      \n",
    "    trace1 = go.Bar(x = df_plot['Season'], y = df_plot['GF'], name = 'Goals/Season')\n",
    "    trace2 = go.Bar(x = df_plot['Season'], y = df_plot['Avg_Goals'], name = 'GoalsperMatch/Season')\n",
    "   \n",
    "    fig = tools.make_subplots(rows = 1, cols = 2, vertical_spacing=0.1,horizontal_spacing=0.2)\n",
    "    fig.append_trace(trace1, 1, 1)\n",
    "    fig.append_trace(trace2, 1, 2)\n",
    "    fig['layout'].update(height = 400, width = 1000, title = 'Season wise Stats')\n",
    "    fig.show()\n",
    "\n",
    "bar_plot_3()"
   ]
  }
 ],
 "metadata": {
  "kernelspec": {
   "display_name": "Python 3",
   "language": "python",
   "name": "python3"
  },
  "language_info": {
   "codemirror_mode": {
    "name": "ipython",
    "version": 3
   },
   "file_extension": ".py",
   "mimetype": "text/x-python",
   "name": "python",
   "nbconvert_exporter": "python",
   "pygments_lexer": "ipython3",
   "version": "3.6.6"
  }
 },
 "nbformat": 4,
 "nbformat_minor": 2
}
